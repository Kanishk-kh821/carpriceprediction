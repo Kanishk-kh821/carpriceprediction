{
 "cells": [
  {
   "cell_type": "markdown",
   "metadata": {},
   "source": [
    "# Checking the Outliers\n"
   ]
  },
  {
   "cell_type": "code",
   "execution_count": null,
   "metadata": {},
   "outputs": [],
   "source": [
    "plt.figure(figsize=(15,5))\n",
    "plt.suptitle(\"Outliers\", fontsize=20, fontweight=\"bold\",alpha=0.8,y=1)\n",
    "\n",
    "outliers= ['km_driven', 'engine', 'selling_price','max_power']\n",
    "# outliers= numeric_features\n",
    "for i in range(len(outliers)):\n",
    "    #plt.subplot(4,2,i+1)\n",
    "    plt.subplot(2,2,i+1)\n",
    "    sns.boxplot(df[outliers[i]])\n",
    "    plt.xlabel(outliers[i])\n",
    "    plt.tight_layout()"
   ]
  },
  {
   "cell_type": "markdown",
   "metadata": {},
   "source": [
    "# Outlier detection and removal using IQR"
   ]
  },
  {
   "cell_type": "code",
   "execution_count": null,
   "metadata": {},
   "outputs": [],
   "source": [
    "# total_number_of_outliers_detected = []\n",
    "\n",
    "# def outlier_detection_and_removal(df1, col_name):\n",
    "\n",
    "#   print(\"-------------------------------------------------------------------------------\\n\")\n",
    "#   print(col_name)\n",
    "#   print()\n",
    "#   print()\n",
    "#   Q1 = df1[col_name].quantile(0.25)\n",
    "#   Q3 = df1[col_name].quantile(0.75)\n",
    "\n",
    "#   print(f\"Q1={Q1}, Q3={Q3}\")\n",
    "\n",
    "#   IQR = Q3 - Q1\n",
    "#   print(f\"IQR={IQR}\")\n",
    "\n",
    "#   lower_limit = Q1 - 1.5*IQR\n",
    "#   upper_limit = Q3 + 1.5*IQR\n",
    "#   print(f\"lower_limit= {lower_limit}, upper_limit = {upper_limit}\")\n",
    "\n",
    "#   outlier_detected = df1[(df1[col_name]<lower_limit) | (df1[col_name]>upper_limit)]\n",
    "#   total_number_of_outliers_detected.append(len(outlier_detected))\n",
    "#   #print(outlier_detected)\n",
    "\n",
    "#   df1 = df1[(df1[col_name]>=lower_limit) & (df1[col_name]<=upper_limit)] # outliers removed from each column\n",
    "#   return df1\n",
    "#   #print(df1)\n",
    "\n",
    "# df1 = df.copy()\n",
    "# for i in outliers:\n",
    "\n",
    "#   df1 = outlier_detection_and_removal(df1, i)\n",
    "#   print(df1)\n",
    "\n",
    "# print(total_number_of_outliers_detected,\": total outliers=>\",sum(total_number_of_outliers_detected))\n",
    "\n"
   ]
  }
 ],
 "metadata": {
  "language_info": {
   "name": "python"
  }
 },
 "nbformat": 4,
 "nbformat_minor": 2
}
